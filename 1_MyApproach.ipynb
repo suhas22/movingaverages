{
 "cells": [
  {
   "cell_type": "markdown",
   "metadata": {},
   "source": [
    "Research:\n",
    "\n",
    "1) Worked in Excel Sheet to understand how Moving average works.\n",
    "2) Explored what best options available in python and Spark.\n",
    "3) Referred https://www.linkedin.com/pulse/time-series-moving-average-apache-pyspark-laurent-weichberger/\n",
    "\n",
    "Learning and Testing.\n",
    "\n",
    "1) Understanding about window functions that spark sql has.\n",
    "2) Explored a couple of options about providing test data to the program.\n",
    "3) Used Spark-Shell to test for sample data.\n",
    "\n",
    "Spark-Shell Commands:\n",
    "\n",
    "Steps:\n",
    "1) Launch pyspark in local mode.\n",
    "2) Create or get a SparkSession.\n",
    "3) Create a dataframe by loading data from local drive, fill up the columns that's got none values with null, and treat null as null.\n",
    "4) Basic sanity checks to eleminate null and none values from the data frame.\n",
    "5) Create a window of 3 and partition by the company name to enhance the performance\n",
    "6) check for the output on the terminal.\n",
    "\n",
    "Pseudo Code Below.\n"
   ]
  },
  {
   "cell_type": "code",
   "execution_count": 1,
   "metadata": {},
   "outputs": [],
   "source": [
    "from pyspark.sql import SparkSession, functions as func\n",
    "from pyspark.sql.window import Window"
   ]
  },
  {
   "cell_type": "code",
   "execution_count": 28,
   "metadata": {},
   "outputs": [],
   "source": [
    "session = SparkSession.builder.appName(\"MovingAverages\").getOrCreate()"
   ]
  },
  {
   "cell_type": "code",
   "execution_count": 37,
   "metadata": {},
   "outputs": [],
   "source": [
    "df = session.read \\\n",
    ".option(\"inferSchema\", value=True) \\\n",
    ".option(\"nullValue\",\"null\") \\\n",
    ".option(\"treatEmptyValuesAsNulls\",\"true\") \\\n",
    ".option(\"header\",\"true\") \\\n",
    ".csv(\"file:///Users/suhas/Desktop/movingaverages/in/sample.csv\")"
   ]
  },
  {
   "cell_type": "code",
   "execution_count": 38,
   "metadata": {},
   "outputs": [
    {
     "name": "stdout",
     "output_type": "stream",
     "text": [
      "+---------+----------+\n",
      "|StockName|StockPrice|\n",
      "+---------+----------+\n",
      "|       TW|         1|\n",
      "|       TW|         2|\n",
      "|       TW|         3|\n",
      "|       TW|         4|\n",
      "|       TW|         5|\n",
      "|       TW|         6|\n",
      "|       TW|         7|\n",
      "|       Tw|      null|\n",
      "|       Tw|      null|\n",
      "+---------+----------+\n",
      "\n"
     ]
    }
   ],
   "source": [
    "df.show()"
   ]
  },
  {
   "cell_type": "code",
   "execution_count": 39,
   "metadata": {},
   "outputs": [],
   "source": [
    "movingAverage_df = df.filter(df.StockPrice.isNotNull())"
   ]
  },
  {
   "cell_type": "code",
   "execution_count": 40,
   "metadata": {},
   "outputs": [
    {
     "name": "stdout",
     "output_type": "stream",
     "text": [
      "+---------+----------+\n",
      "|StockName|StockPrice|\n",
      "+---------+----------+\n",
      "|       TW|         1|\n",
      "|       TW|         2|\n",
      "|       TW|         3|\n",
      "|       TW|         4|\n",
      "|       TW|         5|\n",
      "|       TW|         6|\n",
      "|       TW|         7|\n",
      "+---------+----------+\n",
      "\n"
     ]
    }
   ],
   "source": [
    "movingAverage_df.show()"
   ]
  },
  {
   "cell_type": "code",
   "execution_count": 41,
   "metadata": {},
   "outputs": [],
   "source": [
    "windowSpec = Window \\\n",
    ".partitionBy(\"StockName\") \\\n",
    ".orderBy(\"StockPrice\") \\\n",
    ".rowsBetween(0,2)"
   ]
  },
  {
   "cell_type": "code",
   "execution_count": 42,
   "metadata": {},
   "outputs": [
    {
     "name": "stdout",
     "output_type": "stream",
     "text": [
      "+---------+----------+-------------+\n",
      "|StockName|StockPrice|MovingAverage|\n",
      "+---------+----------+-------------+\n",
      "|       TW|         1|          2.0|\n",
      "|       TW|         2|          3.0|\n",
      "|       TW|         3|          4.0|\n",
      "|       TW|         4|          5.0|\n",
      "|       TW|         5|          6.0|\n",
      "|       TW|         6|          6.5|\n",
      "|       TW|         7|          7.0|\n",
      "+---------+----------+-------------+\n",
      "\n"
     ]
    }
   ],
   "source": [
    "output_df = movingAverage_df.withColumn('MovingAverage',func.avg('StockPrice').over(windowSpec)).show()"
   ]
  },
  {
   "cell_type": "code",
   "execution_count": null,
   "metadata": {},
   "outputs": [],
   "source": []
  }
 ],
 "metadata": {
  "kernelspec": {
   "display_name": "Python 3",
   "language": "python",
   "name": "python3"
  },
  "language_info": {
   "codemirror_mode": {
    "name": "ipython",
    "version": 3
   },
   "file_extension": ".py",
   "mimetype": "text/x-python",
   "name": "python",
   "nbconvert_exporter": "python",
   "pygments_lexer": "ipython3",
   "version": "3.6.5"
  }
 },
 "nbformat": 4,
 "nbformat_minor": 2
}
